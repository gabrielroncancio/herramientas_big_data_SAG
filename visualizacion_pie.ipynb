{
 "cells": [
  {
   "cell_type": "code",
   "execution_count": null,
   "id": "ed7cb4b4",
   "metadata": {},
   "outputs": [],
   "source": [
    "# Import the necessary libraries \n",
    "import pandas as pd\n",
    "import matplotlib.pyplot as plt\n"
   ]
  },
  {
   "cell_type": "code",
   "execution_count": null,
   "id": "31079f8e",
   "metadata": {},
   "outputs": [],
   "source": [
    "# Load a CSV file into a Pandas DataFrame\n",
    "df = pd.read_csv(\"homicidios_clean.csv\")"
   ]
  },
  {
   "cell_type": "code",
   "execution_count": null,
   "id": "61d05518",
   "metadata": {},
   "outputs": [],
   "source": [
    "# Return a tuple representing the dimensionality of the DataFrame.\n",
    "# First value  = Number of Rows including the header.\n",
    "# Second value = Number of Columns.\n",
    "df.shape"
   ]
  },
  {
   "cell_type": "code",
   "execution_count": null,
   "id": "59bb072d",
   "metadata": {},
   "outputs": [],
   "source": [
    "# Group by 'GENERO' and sum the 'CANTIDAD' values\n",
    "tabla_muertes = df.groupby('GENERO')['CANTIDAD'].sum()\n",
    "\n",
    "# Chart title\n",
    "plt.title('Distribución de Homicidios por Género')\n",
    "\n",
    "# plt.pie() is the function that creates the pie chart.\n",
    "# tabla_muertes: The data we want to display in the pie chart.\n",
    "# labels=tabla_muertes.index: We use the DataFrame index values ​​(GENERO) as labels for each slice of the pie.\n",
    "# autopct='%1.1f%%': This shows the percentage of each category in each slice of the pie to one decimal place.\n",
    "# startangle=90: Sets the starting angle for the graph to start from the top (90 degrees).\n",
    "# colors=['lightblue', 'salmon']: Assign specific colors to each slice of the cake (you can change these colors to your preference).\n",
    "\n",
    "# With percentage\n",
    "plt.pie(tabla_muertes, labels=tabla_muertes.index, autopct='%1.1f%%', startangle=90, colors=['lightblue', 'salmon', 'red'])\n",
    "\n",
    "# With values\n",
    "#plt.pie(tabla_muertes, labels=tabla_muertes.index, autopct=lambda p: f'{int(p * sum(tabla_muertes) / 100):,}', startangle=90, colors=['lightblue', 'salmon', 'red'])\n",
    "\n",
    "# Show the legend\n",
    "plt.legend()\n",
    "\n",
    "# Show the graph\n",
    "plt.show()\n"
   ]
  },
  {
   "cell_type": "code",
   "execution_count": null,
   "id": "8dd71b17",
   "metadata": {},
   "outputs": [],
   "source": [
    "# Group by 'ARMAS_MEDIOS' and sum the 'CANTIDAD' values\n",
    "tabla_muertes = df.groupby('ARMAS_MEDIOS')['CANTIDAD'].sum()\n",
    "\n",
    "# Chart title\n",
    "plt.title('Distribución de Homicidios por Armas/Medios')\n",
    "\n",
    "# plt.pie() is the function that creates the pie chart.\n",
    "# tabla_muertes: The data we want to display in the pie chart.\n",
    "# labels=tabla_muertes.index: We use the DataFrame index values ​​(GENERO) as labels for each slice of the pie.\n",
    "# autopct='%1.1f%%': This shows the percentage of each category in each slice of the pie to one decimal place.\n",
    "# startangle=90: Sets the starting angle for the graph to start from the top (90 degrees).\n",
    "# colors=['lightblue', 'salmon']: Assign specific colors to each slice of the cake (you can change these colors to your preference).\n",
    "\n",
    "# With percentage\n",
    "# plt.pie(tabla_muertes, labels=tabla_muertes.index, autopct='%1.1f%%', startangle=90, colors=['lightblue', 'salmon', 'red', 'blue', 'pink'])\n",
    "\n",
    "# With values\n",
    "plt.pie(tabla_muertes, labels=tabla_muertes.index, autopct=lambda p: f'{int(p * sum(tabla_muertes) / 100):,}', startangle=90, colors=['lightblue', 'salmon', 'red', 'blue', 'pink'])\n",
    "\n",
    "# Show the graph\n",
    "plt.show()"
   ]
  },
  {
   "cell_type": "code",
   "execution_count": null,
   "id": "50a4f9f2",
   "metadata": {},
   "outputs": [],
   "source": []
  }
 ],
 "metadata": {
  "language_info": {
   "name": "python"
  }
 },
 "nbformat": 4,
 "nbformat_minor": 5
}
