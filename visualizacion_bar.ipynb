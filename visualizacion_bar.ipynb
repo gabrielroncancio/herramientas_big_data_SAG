{
 "cells": [
  {
   "cell_type": "code",
   "execution_count": null,
   "id": "351318ad",
   "metadata": {},
   "outputs": [],
   "source": [
    "# Import the necessary libraries \n",
    "import pandas as pd\n",
    "import seaborn as sns\n"
   ]
  },
  {
   "cell_type": "code",
   "execution_count": null,
   "id": "3158dbba",
   "metadata": {},
   "outputs": [],
   "source": [
    "# Load a CSV file into a Pandas DataFrame\n",
    "df = pd.read_csv(\"datos_limpios_Empresas.csv\")"
   ]
  },
  {
   "cell_type": "code",
   "execution_count": null,
   "id": "f6dda65d",
   "metadata": {},
   "outputs": [],
   "source": [
    "# Return a tuple representing the dimensionality of the DataFrame.\n",
    "# First value  = Number of Rows including the header.\n",
    "# Second value = Number of Columns.\n",
    "df.shape\n"
   ]
  },
  {
   "cell_type": "code",
   "execution_count": null,
   "id": "f8a754de",
   "metadata": {},
   "outputs": [],
   "source": [
    "# Get the table for the column CANTIDAD and GENERO\n",
    "df.groupby('GENERO')['CANTIDAD'].sum().reset_index()\n"
   ]
  },
  {
   "cell_type": "code",
   "execution_count": null,
   "id": "65ead2ad",
   "metadata": {},
   "outputs": [],
   "source": [
    "\n",
    "# Creates a bar chart where the bars show the total sum of the \"CANTIDAD\" (deaths, for example) for each value of \"GENERO\"\n",
    "# The possible values ​​for the estimator parameter are: mean, sum, count, std\n",
    "sns.barplot(data=df, x=\"GENERO\", y=\"CANTIDAD\", estimator=sum)\n"
   ]
  },
  {
   "cell_type": "code",
   "execution_count": null,
   "id": "5c308ca0",
   "metadata": {},
   "outputs": [],
   "source": [
    "# Get the table for the column ARMAS_MEDIOS and GENERO\n",
    "df.groupby('ARMAS_MEDIOS')['CANTIDAD'].sum().reset_index()\n"
   ]
  },
  {
   "cell_type": "code",
   "execution_count": null,
   "id": "2fb2a790",
   "metadata": {},
   "outputs": [],
   "source": [
    "import matplotlib.pyplot as plt\n",
    "\n",
    "# Create a shape with a specific size (height and width)\n",
    "plt.figure(figsize=(12, 6))\n",
    "\n",
    "# Creates a bar chart where the bars show the total sum of the \"CANTIDAD\" (deaths, for example) for each value of \"ARMAS_MEDIOS\"\n",
    "sns.barplot(data=df, x=\"ARMAS_MEDIOS\", y=\"CANTIDAD\", estimator=sum)"
   ]
  },
  {
   "cell_type": "code",
   "execution_count": null,
   "id": "7f623618",
   "metadata": {},
   "outputs": [],
   "source": [
    "# Get the table for the column GRUPO_ETARIO and GENERO\n",
    "df.groupby('GRUPO_ETARIO')['CANTIDAD'].sum().reset_index()"
   ]
  },
  {
   "cell_type": "code",
   "execution_count": null,
   "id": "b9c734c3",
   "metadata": {},
   "outputs": [],
   "source": [
    "# Creates a bar chart where the bars show the total sum of the \"CANTIDAD\" (deaths, for example) for each value of \"GRUPO_ETARIO\"\n",
    "sns.barplot(data=df, x=\"GRUPO_ETARIO\", y=\"CANTIDAD\", estimator=sum)"
   ]
  }
 ],
 "metadata": {
  "kernelspec": {
   "display_name": "base",
   "language": "python",
   "name": "python3"
  },
  "language_info": {
   "codemirror_mode": {
    "name": "ipython",
    "version": 3
   },
   "file_extension": ".py",
   "mimetype": "text/x-python",
   "name": "python",
   "nbconvert_exporter": "python",
   "pygments_lexer": "ipython3",
   "version": "3.11.3"
  }
 },
 "nbformat": 4,
 "nbformat_minor": 5
}
