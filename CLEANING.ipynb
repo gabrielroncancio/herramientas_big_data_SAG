{
 "cells": [
  {
   "cell_type": "code",
   "execution_count": null,
   "id": "ca0b6d17",
   "metadata": {},
   "outputs": [],
   "source": [
    "# Now the Pandas package can be referred to as pd instead of pandas.\n",
    "import pandas as pd"
   ]
  },
  {
   "cell_type": "code",
   "execution_count": null,
   "id": "5fcdc8ad",
   "metadata": {},
   "outputs": [],
   "source": [
    "# Load a CSV file into a Pandas DataFrame\n",
    "df=pd.read_csv(\"Empresas.csv\")"
   ]
  },
  {
   "cell_type": "code",
   "execution_count": null,
   "id": "3205bfad",
   "metadata": {},
   "outputs": [],
   "source": [
    "# Return a tuple representing the dimensionality of the DataFrame.\n",
    "df.shape"
   ]
  },
  {
   "cell_type": "code",
   "execution_count": null,
   "id": "daf3ca15",
   "metadata": {},
   "outputs": [],
   "source": [
    "# Use the method info(), that gives you information about the data set.\n",
    "df.info()"
   ]
  },
  {
   "cell_type": "code",
   "execution_count": null,
   "id": "b932a048",
   "metadata": {},
   "outputs": [],
   "source": [
    "# Use the drop() method to remove columns that are not needed for analysis \n",
    "# Save in a new DataFrame called df_cleaned\n",
    "df_cleaned = df.drop(columns=[\"CIIU\", \"REGIÓN\", \"Año de Corte\"])"
   ]
  },
  {
   "cell_type": "code",
   "execution_count": null,
   "id": "7d072f58",
   "metadata": {},
   "outputs": [],
   "source": [
    "# Use the method info(), that gives you information about the new data set.\n",
    "# Deleted columns are no longer displayed\n",
    "df_cleaned.info()"
   ]
  },
  {
   "cell_type": "code",
   "execution_count": null,
   "id": "dfe97cda",
   "metadata": {},
   "outputs": [],
   "source": [
    "# To rename a column in a pandas DataFrame in Python, you can use the .rename() method\n",
    "# inplace=True causes the change to be made directly on the DataFrame without having to assign the result to a new variable.\n",
    "#RAZÓN SOCIAL\n",
    "df_cleaned.rename(columns={'RAZÓN SOCIAL': 'RAZÓN_SOCIAL'}, inplace=True)\n",
    "#DEPARTAMENTO DOMICILIO\n",
    "df_cleaned.rename(columns={'DEPARTAMENTO DOMICILIO': 'DEPARTAMENTO_DOMICILIO'}, inplace=True)\n",
    "#CIUDAD DOMICILIO \n",
    "df_cleaned.rename(columns={'CIUDAD DOMICILIO': 'CIUDAD_DOMICILIO'}, inplace=True)\n",
    "#INGRESOS OPERACIONALES\n",
    "df_cleaned.rename(columns={'INGRESOS OPERACIONALES': 'INGRESOS_OPERACIONALES'}, inplace=True)\n",
    "#GANANCIA (PÉRDIDA)\n",
    "df_cleaned.rename(columns={'GANANCIA (PÉRDIDA)': 'GANANCIA_PÉRDIDA'}, inplace=True)\n",
    "#TOTAL ACTIVOS\n",
    "df_cleaned.rename(columns={'TOTAL ACTIVOS': 'TOTAL_ACTIVOS'}, inplace=True)\n",
    "#TOTAL PASIVOS\n",
    "df_cleaned.rename(columns={'TOTAL PASIVOS': 'TOTAL_PASIVOS'}, inplace=True)\n",
    "#TOTAL PATRIMONIO\n",
    "df_cleaned.rename(columns={'TOTAL PATRIMONIO': 'TOTAL_PATRIMONIO'}, inplace=True)"
   ]
  },
  {
   "cell_type": "code",
   "execution_count": null,
   "id": "074f85e7",
   "metadata": {},
   "outputs": [],
   "source": [
    "# inplace=True causes the change to be made directly on the DataFrame without having to assign the result to a new variable.\n",
    "df_cleaned.info()"
   ]
  },
  {
   "cell_type": "code",
   "execution_count": null,
   "id": "1a01b383",
   "metadata": {},
   "outputs": [],
   "source": [
    "# Use the following line if you want to remove rows with null values for all columns:\n",
    "df_cleaned = df_cleaned.dropna()"
   ]
  },
  {
   "cell_type": "code",
   "execution_count": null,
   "id": "52fc5083",
   "metadata": {},
   "outputs": [],
   "source": [
    "# Return a tuple representing the dimensionality of the DataFrame.\n",
    "# First value  = Number of Rows including the header.\n",
    "# Second value = Number of Columns.\n",
    "df_cleaned.shape\n"
   ]
  },
  {
   "cell_type": "code",
   "execution_count": null,
   "id": "d20dd5bd",
   "metadata": {},
   "outputs": [],
   "source": [
    "# Get and display the number of deleted rows\n",
    "rows_before = df.shape[0]\n",
    "rows_after = df_cleaned.shape[0]\n",
    "\n",
    "rows_before - rows_after"
   ]
  },
  {
   "cell_type": "code",
   "execution_count": null,
   "id": "de6f6e78",
   "metadata": {},
   "outputs": [],
   "source": [
    "# Use the method info(), that gives you information about the new data set.\n",
    "# Deleted columns and and rowswith null values are no longer displayed\n",
    "df_cleaned.info()"
   ]
  },
  {
   "cell_type": "code",
   "execution_count": null,
   "id": "c41f03c8",
   "metadata": {},
   "outputs": [],
   "source": [
    "# Adjusting data types\n",
    "df_cleaned['SUPERVISOR'] = df_cleaned['SUPERVISOR'].astype('string')\n",
    "df_cleaned['DEPARTAMENTO_DOMICILIO'] = df_cleaned['DEPARTAMENTO_DOMICILIO'].astype('string')\n",
    "df_cleaned['CIUDAD_DOMICILIO'] = df_cleaned['CIUDAD_DOMICILIO'].astype('string')\n",
    "df_cleaned['MACROSECTOR'] = df_cleaned['MACROSECTOR'].astype('string')"
   ]
  },
  {
   "cell_type": "code",
   "execution_count": null,
   "id": "193ff2af",
   "metadata": {},
   "outputs": [],
   "source": [
    "df_cleaned.info()"
   ]
  },
  {
   "cell_type": "code",
   "execution_count": null,
   "id": "9916d716",
   "metadata": {},
   "outputs": [],
   "source": [
    "df_cleaned[\"INGRESOS_OPERACIONALES\"] = df_cleaned[\"INGRESOS_OPERACIONALES\"].str.replace(\"$\", \"\", regex=False).str.replace(\",\", \"\", regex=False).astype(float)\n",
    "df_cleaned[\"GANANCIA_PÉRDIDA\"] = df_cleaned[\"GANANCIA_PÉRDIDA\"].str.replace(\"$\", \"\", regex=False).str.replace(\",\", \"\", regex=False).astype(float)\n",
    "df_cleaned[\"TOTAL_ACTIVOS\"] = df_cleaned[\"TOTAL_ACTIVOS\"].str.replace(\"$\", \"\", regex=False).str.replace(\",\", \"\", regex=False).astype(float)\n",
    "df_cleaned['TOTAL_PASIVOS'] = df_cleaned['TOTAL_PASIVOS'].str.replace(\"$\", \"\", regex=False).str.replace(\",\", \"\", regex=False).astype(float)\n",
    "df_cleaned[\"TOTAL_PATRIMONIO\"] = df_cleaned[\"TOTAL_PATRIMONIO\"].str.replace(\"$\", \"\", regex=False).str.replace(\",\", \"\", regex=False).astype(float)"
   ]
  },
  {
   "cell_type": "code",
   "execution_count": null,
   "id": "33a1bbde",
   "metadata": {},
   "outputs": [],
   "source": [
    "df_cleaned.info()\n"
   ]
  },
  {
   "cell_type": "code",
   "execution_count": null,
   "id": "c9f96153",
   "metadata": {},
   "outputs": [],
   "source": [
    "df.head(10)"
   ]
  }
 ],
 "metadata": {
  "kernelspec": {
   "display_name": "base",
   "language": "python",
   "name": "python3"
  },
  "language_info": {
   "codemirror_mode": {
    "name": "ipython",
    "version": 3
   },
   "file_extension": ".py",
   "mimetype": "text/x-python",
   "name": "python",
   "nbconvert_exporter": "python",
   "pygments_lexer": "ipython3",
   "version": "3.11.3"
  }
 },
 "nbformat": 4,
 "nbformat_minor": 5
}
