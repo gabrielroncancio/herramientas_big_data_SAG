{
 "cells": [
  {
   "cell_type": "code",
   "execution_count": 34,
   "id": "ca0b6d17",
   "metadata": {},
   "outputs": [],
   "source": [
    "# Now the Pandas package can be referred to as pd instead of pandas.\n",
    "import pandas as pd"
   ]
  },
  {
   "cell_type": "code",
   "execution_count": 35,
   "id": "5fcdc8ad",
   "metadata": {},
   "outputs": [],
   "source": [
    "# Load a CSV file into a Pandas DataFrame\n",
    "df=pd.read_csv(\"Empresas.csv\")"
   ]
  },
  {
   "cell_type": "code",
   "execution_count": 36,
   "id": "3205bfad",
   "metadata": {},
   "outputs": [
    {
     "data": {
      "text/plain": [
       "(30000, 14)"
      ]
     },
     "execution_count": 36,
     "metadata": {},
     "output_type": "execute_result"
    }
   ],
   "source": [
    "# Return a tuple representing the dimensionality of the DataFrame.\n",
    "df.shape"
   ]
  },
  {
   "cell_type": "code",
   "execution_count": 37,
   "id": "daf3ca15",
   "metadata": {},
   "outputs": [
    {
     "name": "stdout",
     "output_type": "stream",
     "text": [
      "<class 'pandas.core.frame.DataFrame'>\n",
      "RangeIndex: 30000 entries, 0 to 29999\n",
      "Data columns (total 14 columns):\n",
      " #   Column                  Non-Null Count  Dtype \n",
      "---  ------                  --------------  ----- \n",
      " 0   NIT                     30000 non-null  int64 \n",
      " 1   RAZÓN SOCIAL            29998 non-null  object\n",
      " 2   SUPERVISOR              30000 non-null  object\n",
      " 3   REGIÓN                  30000 non-null  object\n",
      " 4   DEPARTAMENTO DOMICILIO  30000 non-null  object\n",
      " 5   CIUDAD DOMICILIO        30000 non-null  object\n",
      " 6   CIIU                    30000 non-null  int64 \n",
      " 7   MACROSECTOR             30000 non-null  object\n",
      " 8   INGRESOS OPERACIONALES  30000 non-null  object\n",
      " 9   GANANCIA (PÉRDIDA)      30000 non-null  object\n",
      " 10  TOTAL ACTIVOS           30000 non-null  object\n",
      " 11  TOTAL PASIVOS           30000 non-null  object\n",
      " 12  TOTAL PATRIMONIO        30000 non-null  object\n",
      " 13  Año de Corte            30000 non-null  int64 \n",
      "dtypes: int64(3), object(11)\n",
      "memory usage: 3.2+ MB\n"
     ]
    }
   ],
   "source": [
    "# Use the method info(), that gives you information about the data set.\n",
    "df.info()"
   ]
  },
  {
   "cell_type": "code",
   "execution_count": 38,
   "id": "b932a048",
   "metadata": {},
   "outputs": [],
   "source": [
    "# Use the drop() method to remove columns that are not needed for analysis \n",
    "# Save in a new DataFrame called df_cleaned\n",
    "df_cleaned = df.drop(columns=[\"CIIU\", \"REGIÓN\", \"Año de Corte\"])"
   ]
  },
  {
   "cell_type": "code",
   "execution_count": 39,
   "id": "7d072f58",
   "metadata": {},
   "outputs": [
    {
     "name": "stdout",
     "output_type": "stream",
     "text": [
      "<class 'pandas.core.frame.DataFrame'>\n",
      "RangeIndex: 30000 entries, 0 to 29999\n",
      "Data columns (total 11 columns):\n",
      " #   Column                  Non-Null Count  Dtype \n",
      "---  ------                  --------------  ----- \n",
      " 0   NIT                     30000 non-null  int64 \n",
      " 1   RAZÓN SOCIAL            29998 non-null  object\n",
      " 2   SUPERVISOR              30000 non-null  object\n",
      " 3   DEPARTAMENTO DOMICILIO  30000 non-null  object\n",
      " 4   CIUDAD DOMICILIO        30000 non-null  object\n",
      " 5   MACROSECTOR             30000 non-null  object\n",
      " 6   INGRESOS OPERACIONALES  30000 non-null  object\n",
      " 7   GANANCIA (PÉRDIDA)      30000 non-null  object\n",
      " 8   TOTAL ACTIVOS           30000 non-null  object\n",
      " 9   TOTAL PASIVOS           30000 non-null  object\n",
      " 10  TOTAL PATRIMONIO        30000 non-null  object\n",
      "dtypes: int64(1), object(10)\n",
      "memory usage: 2.5+ MB\n"
     ]
    }
   ],
   "source": [
    "# Use the method info(), that gives you information about the new data set.\n",
    "# Deleted columns are no longer displayed\n",
    "df_cleaned.info()"
   ]
  },
  {
   "cell_type": "code",
   "execution_count": 40,
   "id": "dfe97cda",
   "metadata": {},
   "outputs": [],
   "source": [
    "# To rename a column in a pandas DataFrame in Python, you can use the .rename() method\n",
    "# inplace=True causes the change to be made directly on the DataFrame without having to assign the result to a new variable.\n",
    "#RAZÓN SOCIAL\n",
    "df_cleaned.rename(columns={'RAZÓN SOCIAL': 'RAZÓN_SOCIAL'}, inplace=True)\n",
    "#DEPARTAMENTO DOMICILIO\n",
    "df_cleaned.rename(columns={'DEPARTAMENTO DOMICILIO': 'DEPARTAMENTO_DOMICILIO'}, inplace=True)\n",
    "#CIUDAD DOMICILIO \n",
    "df_cleaned.rename(columns={'CIUDAD DOMICILIO': 'CIUDAD_DOMICILIO'}, inplace=True)\n",
    "#INGRESOS OPERACIONALES\n",
    "df_cleaned.rename(columns={'INGRESOS OPERACIONALES': 'INGRESOS_OPERACIONALES'}, inplace=True)\n",
    "#GANANCIA (PÉRDIDA)\n",
    "df_cleaned.rename(columns={'GANANCIA (PÉRDIDA)': 'GANANCIA_PÉRDIDA'}, inplace=True)\n",
    "#TOTAL ACTIVOS\n",
    "df_cleaned.rename(columns={'TOTAL ACTIVOS': 'TOTAL_ACTIVOS'}, inplace=True)\n",
    "#TOTAL PASIVOS\n",
    "df_cleaned.rename(columns={'TOTAL PASIVOS': 'TOTAL_PASIVOS'}, inplace=True)\n",
    "#TOTAL PATRIMONIO\n",
    "df_cleaned.rename(columns={'TOTAL PATRIMONIO': 'TOTAL_PATRIMONIO'}, inplace=True)"
   ]
  },
  {
   "cell_type": "code",
   "execution_count": 41,
   "id": "074f85e7",
   "metadata": {},
   "outputs": [
    {
     "name": "stdout",
     "output_type": "stream",
     "text": [
      "<class 'pandas.core.frame.DataFrame'>\n",
      "RangeIndex: 30000 entries, 0 to 29999\n",
      "Data columns (total 11 columns):\n",
      " #   Column                  Non-Null Count  Dtype \n",
      "---  ------                  --------------  ----- \n",
      " 0   NIT                     30000 non-null  int64 \n",
      " 1   RAZÓN_SOCIAL            29998 non-null  object\n",
      " 2   SUPERVISOR              30000 non-null  object\n",
      " 3   DEPARTAMENTO_DOMICILIO  30000 non-null  object\n",
      " 4   CIUDAD_DOMICILIO        30000 non-null  object\n",
      " 5   MACROSECTOR             30000 non-null  object\n",
      " 6   INGRESOS_OPERACIONALES  30000 non-null  object\n",
      " 7   GANANCIA_PÉRDIDA        30000 non-null  object\n",
      " 8   TOTAL_ACTIVOS           30000 non-null  object\n",
      " 9   TOTAL_PASIVOS           30000 non-null  object\n",
      " 10  TOTAL_PATRIMONIO        30000 non-null  object\n",
      "dtypes: int64(1), object(10)\n",
      "memory usage: 2.5+ MB\n"
     ]
    }
   ],
   "source": [
    "# inplace=True causes the change to be made directly on the DataFrame without having to assign the result to a new variable.\n",
    "df_cleaned.info()"
   ]
  },
  {
   "cell_type": "code",
   "execution_count": 42,
   "id": "1a01b383",
   "metadata": {},
   "outputs": [],
   "source": [
    "# Use the following line if you want to remove rows with null values for all columns:\n",
    "df_cleaned = df_cleaned.dropna()"
   ]
  },
  {
   "cell_type": "code",
   "execution_count": 43,
   "id": "52fc5083",
   "metadata": {},
   "outputs": [
    {
     "data": {
      "text/plain": [
       "(29998, 11)"
      ]
     },
     "execution_count": 43,
     "metadata": {},
     "output_type": "execute_result"
    }
   ],
   "source": [
    "# Return a tuple representing the dimensionality of the DataFrame.\n",
    "# First value  = Number of Rows including the header.\n",
    "# Second value = Number of Columns.\n",
    "df_cleaned.shape\n"
   ]
  },
  {
   "cell_type": "code",
   "execution_count": 44,
   "id": "d20dd5bd",
   "metadata": {},
   "outputs": [
    {
     "data": {
      "text/plain": [
       "2"
      ]
     },
     "execution_count": 44,
     "metadata": {},
     "output_type": "execute_result"
    }
   ],
   "source": [
    "# Get and display the number of deleted rows\n",
    "rows_before = df.shape[0]\n",
    "rows_after = df_cleaned.shape[0]\n",
    "\n",
    "rows_before - rows_after"
   ]
  },
  {
   "cell_type": "code",
   "execution_count": 45,
   "id": "de6f6e78",
   "metadata": {},
   "outputs": [
    {
     "name": "stdout",
     "output_type": "stream",
     "text": [
      "<class 'pandas.core.frame.DataFrame'>\n",
      "Int64Index: 29998 entries, 0 to 29999\n",
      "Data columns (total 11 columns):\n",
      " #   Column                  Non-Null Count  Dtype \n",
      "---  ------                  --------------  ----- \n",
      " 0   NIT                     29998 non-null  int64 \n",
      " 1   RAZÓN_SOCIAL            29998 non-null  object\n",
      " 2   SUPERVISOR              29998 non-null  object\n",
      " 3   DEPARTAMENTO_DOMICILIO  29998 non-null  object\n",
      " 4   CIUDAD_DOMICILIO        29998 non-null  object\n",
      " 5   MACROSECTOR             29998 non-null  object\n",
      " 6   INGRESOS_OPERACIONALES  29998 non-null  object\n",
      " 7   GANANCIA_PÉRDIDA        29998 non-null  object\n",
      " 8   TOTAL_ACTIVOS           29998 non-null  object\n",
      " 9   TOTAL_PASIVOS           29998 non-null  object\n",
      " 10  TOTAL_PATRIMONIO        29998 non-null  object\n",
      "dtypes: int64(1), object(10)\n",
      "memory usage: 2.7+ MB\n"
     ]
    }
   ],
   "source": [
    "# Use the method info(), that gives you information about the new data set.\n",
    "# Deleted columns and and rowswith null values are no longer displayed\n",
    "df_cleaned.info()"
   ]
  },
  {
   "cell_type": "code",
   "execution_count": 46,
   "id": "c41f03c8",
   "metadata": {},
   "outputs": [],
   "source": [
    "# Adjusting data types\n",
    "df_cleaned['SUPERVISOR'] = df_cleaned['SUPERVISOR'].astype('string')\n",
    "df_cleaned['DEPARTAMENTO_DOMICILIO'] = df_cleaned['DEPARTAMENTO_DOMICILIO'].astype('string')\n",
    "df_cleaned['CIUDAD_DOMICILIO'] = df_cleaned['CIUDAD_DOMICILIO'].astype('string')\n",
    "df_cleaned['MACROSECTOR'] = df_cleaned['MACROSECTOR'].astype('string')"
   ]
  },
  {
   "cell_type": "code",
   "execution_count": 47,
   "id": "193ff2af",
   "metadata": {},
   "outputs": [
    {
     "name": "stdout",
     "output_type": "stream",
     "text": [
      "<class 'pandas.core.frame.DataFrame'>\n",
      "Int64Index: 29998 entries, 0 to 29999\n",
      "Data columns (total 11 columns):\n",
      " #   Column                  Non-Null Count  Dtype \n",
      "---  ------                  --------------  ----- \n",
      " 0   NIT                     29998 non-null  int64 \n",
      " 1   RAZÓN_SOCIAL            29998 non-null  object\n",
      " 2   SUPERVISOR              29998 non-null  string\n",
      " 3   DEPARTAMENTO_DOMICILIO  29998 non-null  string\n",
      " 4   CIUDAD_DOMICILIO        29998 non-null  string\n",
      " 5   MACROSECTOR             29998 non-null  string\n",
      " 6   INGRESOS_OPERACIONALES  29998 non-null  object\n",
      " 7   GANANCIA_PÉRDIDA        29998 non-null  object\n",
      " 8   TOTAL_ACTIVOS           29998 non-null  object\n",
      " 9   TOTAL_PASIVOS           29998 non-null  object\n",
      " 10  TOTAL_PATRIMONIO        29998 non-null  object\n",
      "dtypes: int64(1), object(6), string(4)\n",
      "memory usage: 2.7+ MB\n"
     ]
    }
   ],
   "source": [
    "df_cleaned.info()"
   ]
  },
  {
   "cell_type": "code",
   "execution_count": 48,
   "id": "9916d716",
   "metadata": {},
   "outputs": [
    {
     "name": "stderr",
     "output_type": "stream",
     "text": [
      "C:\\Users\\Usuario\\AppData\\Local\\FortiClient\\tmp\\ipykernel_28656\\2954153474.py:1: FutureWarning: The default value of regex will change from True to False in a future version. In addition, single character regular expressions will *not* be treated as literal strings when regex=True.\n",
      "  df_cleaned[\"INGRESOS_OPERACIONALES\"] = df_cleaned[\"INGRESOS_OPERACIONALES\"].str.replace(\"$\", \"\").str.replace(\",\", \"\").astype(float)\n",
      "C:\\Users\\Usuario\\AppData\\Local\\FortiClient\\tmp\\ipykernel_28656\\2954153474.py:2: FutureWarning: The default value of regex will change from True to False in a future version. In addition, single character regular expressions will *not* be treated as literal strings when regex=True.\n",
      "  df_cleaned[\"GANANCIA_PÉRDIDA\"] = df_cleaned[\"GANANCIA_PÉRDIDA\"].str.replace(\"$\", \"\").str.replace(\",\", \"\").astype(float)\n",
      "C:\\Users\\Usuario\\AppData\\Local\\FortiClient\\tmp\\ipykernel_28656\\2954153474.py:3: FutureWarning: The default value of regex will change from True to False in a future version. In addition, single character regular expressions will *not* be treated as literal strings when regex=True.\n",
      "  df_cleaned[\"TOTAL_ACTIVOS\"] = df_cleaned[\"TOTAL_ACTIVOS\"].str.replace(\"$\", \"\").str.replace(\",\", \"\").astype(float)\n",
      "C:\\Users\\Usuario\\AppData\\Local\\FortiClient\\tmp\\ipykernel_28656\\2954153474.py:4: FutureWarning: The default value of regex will change from True to False in a future version. In addition, single character regular expressions will *not* be treated as literal strings when regex=True.\n",
      "  df_cleaned['TOTAL_PASIVOS'] = df_cleaned['TOTAL_PASIVOS'].str.replace(\"$\", \"\").str.replace(\",\", \"\").astype(float)\n",
      "C:\\Users\\Usuario\\AppData\\Local\\FortiClient\\tmp\\ipykernel_28656\\2954153474.py:5: FutureWarning: The default value of regex will change from True to False in a future version. In addition, single character regular expressions will *not* be treated as literal strings when regex=True.\n",
      "  df_cleaned[\"TOTAL_PATRIMONIO\"] = df_cleaned[\"TOTAL_PATRIMONIO\"].str.replace(\"$\", \"\").str.replace(\",\", \"\").astype(float)\n"
     ]
    }
   ],
   "source": [
    "df_cleaned[\"INGRESOS_OPERACIONALES\"] = df_cleaned[\"INGRESOS_OPERACIONALES\"].str.replace(\"$\", \"\").str.replace(\",\", \"\").astype(float)\n",
    "df_cleaned[\"GANANCIA_PÉRDIDA\"] = df_cleaned[\"GANANCIA_PÉRDIDA\"].str.replace(\"$\", \"\").str.replace(\",\", \"\").astype(float)\n",
    "df_cleaned[\"TOTAL_ACTIVOS\"] = df_cleaned[\"TOTAL_ACTIVOS\"].str.replace(\"$\", \"\").str.replace(\",\", \"\").astype(float)\n",
    "df_cleaned['TOTAL_PASIVOS'] = df_cleaned['TOTAL_PASIVOS'].str.replace(\"$\", \"\").str.replace(\",\", \"\").astype(float)\n",
    "df_cleaned[\"TOTAL_PATRIMONIO\"] = df_cleaned[\"TOTAL_PATRIMONIO\"].str.replace(\"$\", \"\").str.replace(\",\", \"\").astype(float)"
   ]
  },
  {
   "cell_type": "code",
   "execution_count": 49,
   "id": "33a1bbde",
   "metadata": {},
   "outputs": [
    {
     "name": "stdout",
     "output_type": "stream",
     "text": [
      "<class 'pandas.core.frame.DataFrame'>\n",
      "Int64Index: 29998 entries, 0 to 29999\n",
      "Data columns (total 11 columns):\n",
      " #   Column                  Non-Null Count  Dtype  \n",
      "---  ------                  --------------  -----  \n",
      " 0   NIT                     29998 non-null  int64  \n",
      " 1   RAZÓN_SOCIAL            29998 non-null  object \n",
      " 2   SUPERVISOR              29998 non-null  string \n",
      " 3   DEPARTAMENTO_DOMICILIO  29998 non-null  string \n",
      " 4   CIUDAD_DOMICILIO        29998 non-null  string \n",
      " 5   MACROSECTOR             29998 non-null  string \n",
      " 6   INGRESOS_OPERACIONALES  29998 non-null  float64\n",
      " 7   GANANCIA_PÉRDIDA        29998 non-null  float64\n",
      " 8   TOTAL_ACTIVOS           29998 non-null  float64\n",
      " 9   TOTAL_PASIVOS           29998 non-null  float64\n",
      " 10  TOTAL_PATRIMONIO        29998 non-null  float64\n",
      "dtypes: float64(5), int64(1), object(1), string(4)\n",
      "memory usage: 2.7+ MB\n"
     ]
    }
   ],
   "source": [
    "df_cleaned.info()\n"
   ]
  },
  {
   "cell_type": "code",
   "execution_count": 50,
   "id": "c9f96153",
   "metadata": {},
   "outputs": [
    {
     "data": {
      "text/html": [
       "<div>\n",
       "<style scoped>\n",
       "    .dataframe tbody tr th:only-of-type {\n",
       "        vertical-align: middle;\n",
       "    }\n",
       "\n",
       "    .dataframe tbody tr th {\n",
       "        vertical-align: top;\n",
       "    }\n",
       "\n",
       "    .dataframe thead th {\n",
       "        text-align: right;\n",
       "    }\n",
       "</style>\n",
       "<table border=\"1\" class=\"dataframe\">\n",
       "  <thead>\n",
       "    <tr style=\"text-align: right;\">\n",
       "      <th></th>\n",
       "      <th>NIT</th>\n",
       "      <th>RAZÓN SOCIAL</th>\n",
       "      <th>SUPERVISOR</th>\n",
       "      <th>REGIÓN</th>\n",
       "      <th>DEPARTAMENTO DOMICILIO</th>\n",
       "      <th>CIUDAD DOMICILIO</th>\n",
       "      <th>CIIU</th>\n",
       "      <th>MACROSECTOR</th>\n",
       "      <th>INGRESOS OPERACIONALES</th>\n",
       "      <th>GANANCIA (PÉRDIDA)</th>\n",
       "      <th>TOTAL ACTIVOS</th>\n",
       "      <th>TOTAL PASIVOS</th>\n",
       "      <th>TOTAL PATRIMONIO</th>\n",
       "      <th>Año de Corte</th>\n",
       "    </tr>\n",
       "  </thead>\n",
       "  <tbody>\n",
       "    <tr>\n",
       "      <th>0</th>\n",
       "      <td>899999068</td>\n",
       "      <td>ECOPETROL S.A</td>\n",
       "      <td>SUPERFINANCIERA</td>\n",
       "      <td>Bogotá - Cundinamarca</td>\n",
       "      <td>BOGOTA D.C.</td>\n",
       "      <td>BOGOTA D.C.-BOGOTA D.C.</td>\n",
       "      <td>610</td>\n",
       "      <td>MINERO</td>\n",
       "      <td>$144.82</td>\n",
       "      <td>$33.41</td>\n",
       "      <td>$216.85</td>\n",
       "      <td>$125.81</td>\n",
       "      <td>$91.03</td>\n",
       "      <td>2022</td>\n",
       "    </tr>\n",
       "    <tr>\n",
       "      <th>1</th>\n",
       "      <td>900112515</td>\n",
       "      <td>REFINERIA DE CARTAGENA S.A.S</td>\n",
       "      <td>SUPERSOCIEDADES</td>\n",
       "      <td>Costa Atlántica</td>\n",
       "      <td>BOLIVAR</td>\n",
       "      <td>CARTAGENA-BOLIVAR</td>\n",
       "      <td>1921</td>\n",
       "      <td>MANUFACTURA</td>\n",
       "      <td>$27.86</td>\n",
       "      <td>$2.19</td>\n",
       "      <td>$42.84</td>\n",
       "      <td>$16.48</td>\n",
       "      <td>$26.36</td>\n",
       "      <td>2022</td>\n",
       "    </tr>\n",
       "    <tr>\n",
       "      <th>2</th>\n",
       "      <td>830095213</td>\n",
       "      <td>ORGANIZACIÓN TERPEL S.A.</td>\n",
       "      <td>SUPERFINANCIERA</td>\n",
       "      <td>Bogotá - Cundinamarca</td>\n",
       "      <td>BOGOTA D.C.</td>\n",
       "      <td>BOGOTA D.C.-BOGOTA D.C.</td>\n",
       "      <td>4661</td>\n",
       "      <td>COMERCIO</td>\n",
       "      <td>$23.60</td>\n",
       "      <td>$0.33</td>\n",
       "      <td>$7.48</td>\n",
       "      <td>$4.47</td>\n",
       "      <td>$3.01</td>\n",
       "      <td>2022</td>\n",
       "    </tr>\n",
       "    <tr>\n",
       "      <th>3</th>\n",
       "      <td>860069804</td>\n",
       "      <td>CARBONES DEL CERREJON LIMITED</td>\n",
       "      <td>SUPERSOCIEDADES</td>\n",
       "      <td>Bogotá - Cundinamarca</td>\n",
       "      <td>BOGOTA D.C.</td>\n",
       "      <td>BOGOTA D.C.-BOGOTA D.C.</td>\n",
       "      <td>510</td>\n",
       "      <td>MINERO</td>\n",
       "      <td>$16.39</td>\n",
       "      <td>$6.05</td>\n",
       "      <td>$10.45</td>\n",
       "      <td>$9.00</td>\n",
       "      <td>$1.45</td>\n",
       "      <td>2022</td>\n",
       "    </tr>\n",
       "    <tr>\n",
       "      <th>4</th>\n",
       "      <td>800021308</td>\n",
       "      <td>DRUMMOND LTD</td>\n",
       "      <td>SUPERSOCIEDADES</td>\n",
       "      <td>Bogotá - Cundinamarca</td>\n",
       "      <td>BOGOTA D.C.</td>\n",
       "      <td>BOGOTA D.C.-BOGOTA D.C.</td>\n",
       "      <td>510</td>\n",
       "      <td>MINERO</td>\n",
       "      <td>$15.27</td>\n",
       "      <td>$2.16</td>\n",
       "      <td>$14.27</td>\n",
       "      <td>$6.34</td>\n",
       "      <td>$7.93</td>\n",
       "      <td>2022</td>\n",
       "    </tr>\n",
       "    <tr>\n",
       "      <th>5</th>\n",
       "      <td>890900608</td>\n",
       "      <td>ALMACENES EXITO S A</td>\n",
       "      <td>SUPERFINANCIERA</td>\n",
       "      <td>Antioquia</td>\n",
       "      <td>ANTIOQUIA</td>\n",
       "      <td>ENVIGADO-ANTIOQUIA</td>\n",
       "      <td>4711</td>\n",
       "      <td>COMERCIO</td>\n",
       "      <td>$15.13</td>\n",
       "      <td>$0.10</td>\n",
       "      <td>$14.85</td>\n",
       "      <td>$7.62</td>\n",
       "      <td>$7.23</td>\n",
       "      <td>2022</td>\n",
       "    </tr>\n",
       "    <tr>\n",
       "      <th>6</th>\n",
       "      <td>890904996</td>\n",
       "      <td>EMPRESAS PÚBLICAS DE MEDELLÍN E.S.P.</td>\n",
       "      <td>SUPERFINANCIERA</td>\n",
       "      <td>Antioquia</td>\n",
       "      <td>ANTIOQUIA</td>\n",
       "      <td>MEDELLIN-ANTIOQUIA</td>\n",
       "      <td>3513</td>\n",
       "      <td>SERVICIOS</td>\n",
       "      <td>$15.07</td>\n",
       "      <td>$3.04</td>\n",
       "      <td>$59.47</td>\n",
       "      <td>$30.24</td>\n",
       "      <td>$29.23</td>\n",
       "      <td>2022</td>\n",
       "    </tr>\n",
       "    <tr>\n",
       "      <th>7</th>\n",
       "      <td>900156264</td>\n",
       "      <td>NUEVA EPS S.A.</td>\n",
       "      <td>SUPERSALUD</td>\n",
       "      <td>Bogotá - Cundinamarca</td>\n",
       "      <td>BOGOTA D.C.</td>\n",
       "      <td>BOGOTA D.C.-BOGOTA D.C.</td>\n",
       "      <td>8430</td>\n",
       "      <td>SERVICIOS</td>\n",
       "      <td>$14.78</td>\n",
       "      <td>$0.01</td>\n",
       "      <td>$5.91</td>\n",
       "      <td>$5.43</td>\n",
       "      <td>$0.49</td>\n",
       "      <td>2022</td>\n",
       "    </tr>\n",
       "    <tr>\n",
       "      <th>8</th>\n",
       "      <td>800153993</td>\n",
       "      <td>COMUNICACIÓN CELULAR S.A.</td>\n",
       "      <td>SUPERSOCIEDADES</td>\n",
       "      <td>Bogotá - Cundinamarca</td>\n",
       "      <td>BOGOTA D.C.</td>\n",
       "      <td>BOGOTA D.C.-BOGOTA D.C.</td>\n",
       "      <td>6120</td>\n",
       "      <td>SERVICIOS</td>\n",
       "      <td>$14.63</td>\n",
       "      <td>$1.79</td>\n",
       "      <td>$23.43</td>\n",
       "      <td>$14.67</td>\n",
       "      <td>$8.76</td>\n",
       "      <td>2022</td>\n",
       "    </tr>\n",
       "    <tr>\n",
       "      <th>9</th>\n",
       "      <td>900276962</td>\n",
       "      <td>D1 SAS</td>\n",
       "      <td>SUPERSOCIEDADES</td>\n",
       "      <td>Bogotá - Cundinamarca</td>\n",
       "      <td>BOGOTA D.C.</td>\n",
       "      <td>BOGOTA D.C.-BOGOTA D.C.</td>\n",
       "      <td>4711</td>\n",
       "      <td>COMERCIO</td>\n",
       "      <td>$13.96</td>\n",
       "      <td>$0.29</td>\n",
       "      <td>$4.90</td>\n",
       "      <td>$4.75</td>\n",
       "      <td>$0.15</td>\n",
       "      <td>2022</td>\n",
       "    </tr>\n",
       "  </tbody>\n",
       "</table>\n",
       "</div>"
      ],
      "text/plain": [
       "         NIT                          RAZÓN SOCIAL       SUPERVISOR  \\\n",
       "0  899999068                         ECOPETROL S.A  SUPERFINANCIERA   \n",
       "1  900112515          REFINERIA DE CARTAGENA S.A.S  SUPERSOCIEDADES   \n",
       "2  830095213              ORGANIZACIÓN TERPEL S.A.  SUPERFINANCIERA   \n",
       "3  860069804         CARBONES DEL CERREJON LIMITED  SUPERSOCIEDADES   \n",
       "4  800021308                          DRUMMOND LTD  SUPERSOCIEDADES   \n",
       "5  890900608                   ALMACENES EXITO S A  SUPERFINANCIERA   \n",
       "6  890904996  EMPRESAS PÚBLICAS DE MEDELLÍN E.S.P.  SUPERFINANCIERA   \n",
       "7  900156264                        NUEVA EPS S.A.       SUPERSALUD   \n",
       "8  800153993             COMUNICACIÓN CELULAR S.A.  SUPERSOCIEDADES   \n",
       "9  900276962                                D1 SAS  SUPERSOCIEDADES   \n",
       "\n",
       "                  REGIÓN DEPARTAMENTO DOMICILIO         CIUDAD DOMICILIO  \\\n",
       "0  Bogotá - Cundinamarca            BOGOTA D.C.  BOGOTA D.C.-BOGOTA D.C.   \n",
       "1        Costa Atlántica                BOLIVAR        CARTAGENA-BOLIVAR   \n",
       "2  Bogotá - Cundinamarca            BOGOTA D.C.  BOGOTA D.C.-BOGOTA D.C.   \n",
       "3  Bogotá - Cundinamarca            BOGOTA D.C.  BOGOTA D.C.-BOGOTA D.C.   \n",
       "4  Bogotá - Cundinamarca            BOGOTA D.C.  BOGOTA D.C.-BOGOTA D.C.   \n",
       "5              Antioquia              ANTIOQUIA       ENVIGADO-ANTIOQUIA   \n",
       "6              Antioquia              ANTIOQUIA       MEDELLIN-ANTIOQUIA   \n",
       "7  Bogotá - Cundinamarca            BOGOTA D.C.  BOGOTA D.C.-BOGOTA D.C.   \n",
       "8  Bogotá - Cundinamarca            BOGOTA D.C.  BOGOTA D.C.-BOGOTA D.C.   \n",
       "9  Bogotá - Cundinamarca            BOGOTA D.C.  BOGOTA D.C.-BOGOTA D.C.   \n",
       "\n",
       "   CIIU  MACROSECTOR INGRESOS OPERACIONALES GANANCIA (PÉRDIDA) TOTAL ACTIVOS  \\\n",
       "0   610       MINERO                $144.82             $33.41       $216.85   \n",
       "1  1921  MANUFACTURA                 $27.86              $2.19        $42.84   \n",
       "2  4661     COMERCIO                 $23.60              $0.33         $7.48   \n",
       "3   510       MINERO                 $16.39              $6.05        $10.45   \n",
       "4   510       MINERO                 $15.27              $2.16        $14.27   \n",
       "5  4711     COMERCIO                 $15.13              $0.10        $14.85   \n",
       "6  3513    SERVICIOS                 $15.07              $3.04        $59.47   \n",
       "7  8430    SERVICIOS                 $14.78              $0.01         $5.91   \n",
       "8  6120    SERVICIOS                 $14.63              $1.79        $23.43   \n",
       "9  4711     COMERCIO                 $13.96              $0.29         $4.90   \n",
       "\n",
       "  TOTAL PASIVOS TOTAL PATRIMONIO  Año de Corte  \n",
       "0       $125.81           $91.03          2022  \n",
       "1        $16.48           $26.36          2022  \n",
       "2         $4.47            $3.01          2022  \n",
       "3         $9.00            $1.45          2022  \n",
       "4         $6.34            $7.93          2022  \n",
       "5         $7.62            $7.23          2022  \n",
       "6        $30.24           $29.23          2022  \n",
       "7         $5.43            $0.49          2022  \n",
       "8        $14.67            $8.76          2022  \n",
       "9         $4.75            $0.15          2022  "
      ]
     },
     "execution_count": 50,
     "metadata": {},
     "output_type": "execute_result"
    }
   ],
   "source": [
    "df.head(10)"
   ]
  }
 ],
 "metadata": {
  "kernelspec": {
   "display_name": "base",
   "language": "python",
   "name": "python3"
  },
  "language_info": {
   "codemirror_mode": {
    "name": "ipython",
    "version": 3
   },
   "file_extension": ".py",
   "mimetype": "text/x-python",
   "name": "python",
   "nbconvert_exporter": "python",
   "pygments_lexer": "ipython3",
   "version": "3.11.3"
  }
 },
 "nbformat": 4,
 "nbformat_minor": 5
}
